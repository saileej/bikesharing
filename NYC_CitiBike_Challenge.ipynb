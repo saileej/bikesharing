{
 "cells": [
  {
   "cell_type": "code",
   "execution_count": 1,
   "metadata": {},
   "outputs": [],
   "source": [
    "import pandas as pd\n",
    "import datetime as dt"
   ]
  },
  {
   "cell_type": "code",
   "execution_count": null,
   "metadata": {},
   "outputs": [],
   "source": [
    "# 1. Create a DataFrame for the 201908-citibike-tripdata data.\n",
    "file_to_load = \"201908-citibike-tripdata.csv\"\n",
    "nyc_citibike_df = pd.read_csv(file_to_load)\n",
    "nyc_citibike_df"
   ]
  },
  {
   "cell_type": "code",
   "execution_count": null,
   "metadata": {},
   "outputs": [],
   "source": [
    "# 2. Check the datatypes of your columns. \n",
    "nyc_citibike_df.dtypes"
   ]
  },
  {
   "cell_type": "code",
   "execution_count": null,
   "metadata": {},
   "outputs": [],
   "source": [
    "# 3. Convert the 'tripduration' column to datetime datatype.\n",
    "new_tripduration = nyc_citibike_df.tripduration\n",
    "# print(new_tripduration)\n",
    "\n",
    "new_tripduration_datetime = pd.to_datetime(new_tripduration, unit='m')\n",
    "# print(new_tripduration_datetime)\n",
    "\n",
    "# Add a new column for the converted trip duration\n",
    "nyc_citibike_df['new_tripduration'] = new_tripduration_datetime\n",
    "\n",
    "# Convert the numeric gender values to string values \n",
    "nyc_citibike_df['gender'].replace([0,1,2],['Unknown','Male','Female'],inplace=True)\n",
    "nyc_citibike_df.head()"
   ]
  },
  {
   "cell_type": "code",
   "execution_count": null,
   "metadata": {},
   "outputs": [],
   "source": [
    "# 4. Check the datatypes of your columns. \n",
    "# new tripduration shows as a datatime\n",
    "nyc_citibike_df.dtypes"
   ]
  },
  {
   "cell_type": "code",
   "execution_count": null,
   "metadata": {},
   "outputs": [],
   "source": [
    "# 5. Export the Dataframe as a new CSV file without the index.\n",
    "nyc_citibike_df.to_csv(\"nyc_citibike_2.csv\", index = False)"
   ]
  },
  {
   "cell_type": "code",
   "execution_count": null,
   "metadata": {},
   "outputs": [],
   "source": []
  },
  {
   "cell_type": "code",
   "execution_count": null,
   "metadata": {},
   "outputs": [],
   "source": []
  }
 ],
 "metadata": {
  "kernelspec": {
   "display_name": "PythonData",
   "language": "python",
   "name": "pythondata"
  },
  "language_info": {
   "codemirror_mode": {
    "name": "ipython",
    "version": 3
   },
   "file_extension": ".py",
   "mimetype": "text/x-python",
   "name": "python",
   "nbconvert_exporter": "python",
   "pygments_lexer": "ipython3",
   "version": "3.7.11"
  }
 },
 "nbformat": 4,
 "nbformat_minor": 4
}
